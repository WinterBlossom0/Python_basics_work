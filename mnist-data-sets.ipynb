{
 "cells": [
  {
   "cell_type": "code",
   "execution_count": 1,
   "id": "d2e370e0",
   "metadata": {
    "_cell_guid": "b1076dfc-b9ad-4769-8c92-a6c4dae69d19",
    "_uuid": "8f2839f25d086af736a60e9eeb907d3b93b6e0e5",
    "execution": {
     "iopub.execute_input": "2024-07-01T17:09:46.227978Z",
     "iopub.status.busy": "2024-07-01T17:09:46.227100Z",
     "iopub.status.idle": "2024-07-01T17:10:00.053667Z",
     "shell.execute_reply": "2024-07-01T17:10:00.052508Z"
    },
    "papermill": {
     "duration": 13.83526,
     "end_time": "2024-07-01T17:10:00.055955",
     "exception": false,
     "start_time": "2024-07-01T17:09:46.220695",
     "status": "completed"
    },
    "tags": []
   },
   "outputs": [
    {
     "name": "stderr",
     "output_type": "stream",
     "text": [
      "2024-07-01 17:09:48.992140: E external/local_xla/xla/stream_executor/cuda/cuda_dnn.cc:9261] Unable to register cuDNN factory: Attempting to register factory for plugin cuDNN when one has already been registered\n",
      "2024-07-01 17:09:48.992251: E external/local_xla/xla/stream_executor/cuda/cuda_fft.cc:607] Unable to register cuFFT factory: Attempting to register factory for plugin cuFFT when one has already been registered\n",
      "2024-07-01 17:09:49.132419: E external/local_xla/xla/stream_executor/cuda/cuda_blas.cc:1515] Unable to register cuBLAS factory: Attempting to register factory for plugin cuBLAS when one has already been registered\n"
     ]
    },
    {
     "name": "stdout",
     "output_type": "stream",
     "text": [
      "Block executed\n"
     ]
    }
   ],
   "source": [
    "# This Python 3 environment comes with many helpful analytics libraries installed\n",
    "# It is defined by the kaggle/python Docker image: https://github.com/kaggle/docker-python\n",
    "# For example, here's several helpful packages to load\n",
    "\n",
    "import numpy as np # linear algebra\n",
    "import pandas as pd # data processing, CSV file I/O (e.g. pd.read_csv)\n",
    "from tensorflow import keras\n",
    "import keras.datasets\n",
    "print(\"Block executed\")\n"
   ]
  },
  {
   "cell_type": "code",
   "execution_count": 2,
   "id": "cd94a25c",
   "metadata": {
    "execution": {
     "iopub.execute_input": "2024-07-01T17:10:00.066907Z",
     "iopub.status.busy": "2024-07-01T17:10:00.066249Z",
     "iopub.status.idle": "2024-07-01T17:10:00.531069Z",
     "shell.execute_reply": "2024-07-01T17:10:00.530091Z"
    },
    "papermill": {
     "duration": 0.472356,
     "end_time": "2024-07-01T17:10:00.533269",
     "exception": false,
     "start_time": "2024-07-01T17:10:00.060913",
     "status": "completed"
    },
    "tags": []
   },
   "outputs": [
    {
     "name": "stdout",
     "output_type": "stream",
     "text": [
      "Downloading data from https://storage.googleapis.com/tensorflow/tf-keras-datasets/mnist.npz\n",
      "\u001b[1m11490434/11490434\u001b[0m \u001b[32m━━━━━━━━━━━━━━━━━━━━\u001b[0m\u001b[37m\u001b[0m \u001b[1m0s\u001b[0m 0us/step\n"
     ]
    },
    {
     "data": {
      "text/plain": [
       "(60000, 28, 28)"
      ]
     },
     "execution_count": 2,
     "metadata": {},
     "output_type": "execute_result"
    }
   ],
   "source": [
    "(x_train, y_train), (x_test, y_test) = keras.datasets.mnist.load_data()\n",
    "x_train.shape"
   ]
  },
  {
   "cell_type": "code",
   "execution_count": 3,
   "id": "8e30cd2a",
   "metadata": {
    "execution": {
     "iopub.execute_input": "2024-07-01T17:10:00.544018Z",
     "iopub.status.busy": "2024-07-01T17:10:00.543751Z",
     "iopub.status.idle": "2024-07-01T17:10:00.548299Z",
     "shell.execute_reply": "2024-07-01T17:10:00.547393Z"
    },
    "papermill": {
     "duration": 0.012669,
     "end_time": "2024-07-01T17:10:00.550652",
     "exception": false,
     "start_time": "2024-07-01T17:10:00.537983",
     "status": "completed"
    },
    "tags": []
   },
   "outputs": [
    {
     "name": "stdout",
     "output_type": "stream",
     "text": [
      "Block executed\n"
     ]
    }
   ],
   "source": [
    "num_classes = 10 \n",
    "input_shape = (28,28,1)\n",
    "print(\"Block executed\")"
   ]
  },
  {
   "cell_type": "code",
   "execution_count": 4,
   "id": "49d525dd",
   "metadata": {
    "execution": {
     "iopub.execute_input": "2024-07-01T17:10:00.561740Z",
     "iopub.status.busy": "2024-07-01T17:10:00.561262Z",
     "iopub.status.idle": "2024-07-01T17:10:01.329220Z",
     "shell.execute_reply": "2024-07-01T17:10:01.328011Z"
    },
    "papermill": {
     "duration": 0.776239,
     "end_time": "2024-07-01T17:10:01.331758",
     "exception": false,
     "start_time": "2024-07-01T17:10:00.555519",
     "status": "completed"
    },
    "tags": []
   },
   "outputs": [
    {
     "name": "stdout",
     "output_type": "stream",
     "text": [
      "Block executed\n"
     ]
    }
   ],
   "source": [
    "#machine model\n",
    "mnist_model = keras.Sequential([\n",
    "    keras.layers.Input(shape = input_shape),\n",
    "    keras.layers.Conv2D(300,kernel_size = (3,3),activation = \"relu\"),\n",
    "    keras.layers.Conv2D(300,kernel_size = (3,3),activation = \"relu\"),\n",
    "    keras.layers.MaxPooling2D(pool_size = (2,2)),\n",
    "    keras.layers.Conv2D(600,kernel_size = (3,3),activation = \"relu\"),\n",
    "    keras.layers.Conv2D(600,kernel_size = (3,3),activation = \"relu\"),\n",
    "    keras.layers.GlobalAveragePooling2D(),\n",
    "    keras.layers.Dropout(0.35),\n",
    "    keras.layers.Dense(num_classes,activation = \"softmax\")\n",
    "])\n",
    "print(\"Block executed\")"
   ]
  },
  {
   "cell_type": "code",
   "execution_count": 5,
   "id": "255a2c60",
   "metadata": {
    "execution": {
     "iopub.execute_input": "2024-07-01T17:10:01.343986Z",
     "iopub.status.busy": "2024-07-01T17:10:01.343648Z",
     "iopub.status.idle": "2024-07-01T17:10:01.368671Z",
     "shell.execute_reply": "2024-07-01T17:10:01.367726Z"
    },
    "papermill": {
     "duration": 0.033778,
     "end_time": "2024-07-01T17:10:01.370843",
     "exception": false,
     "start_time": "2024-07-01T17:10:01.337065",
     "status": "completed"
    },
    "tags": []
   },
   "outputs": [
    {
     "data": {
      "text/html": [
       "<pre style=\"white-space:pre;overflow-x:auto;line-height:normal;font-family:Menlo,'DejaVu Sans Mono',consolas,'Courier New',monospace\"><span style=\"font-weight: bold\">Model: \"sequential\"</span>\n",
       "</pre>\n"
      ],
      "text/plain": [
       "\u001b[1mModel: \"sequential\"\u001b[0m\n"
      ]
     },
     "metadata": {},
     "output_type": "display_data"
    },
    {
     "data": {
      "text/html": [
       "<pre style=\"white-space:pre;overflow-x:auto;line-height:normal;font-family:Menlo,'DejaVu Sans Mono',consolas,'Courier New',monospace\">┏━━━━━━━━━━━━━━━━━━━━━━━━━━━━━━━━━┳━━━━━━━━━━━━━━━━━━━━━━━━┳━━━━━━━━━━━━━━━┓\n",
       "┃<span style=\"font-weight: bold\"> Layer (type)                    </span>┃<span style=\"font-weight: bold\"> Output Shape           </span>┃<span style=\"font-weight: bold\">       Param # </span>┃\n",
       "┡━━━━━━━━━━━━━━━━━━━━━━━━━━━━━━━━━╇━━━━━━━━━━━━━━━━━━━━━━━━╇━━━━━━━━━━━━━━━┩\n",
       "│ conv2d (<span style=\"color: #0087ff; text-decoration-color: #0087ff\">Conv2D</span>)                 │ (<span style=\"color: #00d7ff; text-decoration-color: #00d7ff\">None</span>, <span style=\"color: #00af00; text-decoration-color: #00af00\">26</span>, <span style=\"color: #00af00; text-decoration-color: #00af00\">26</span>, <span style=\"color: #00af00; text-decoration-color: #00af00\">300</span>)    │         <span style=\"color: #00af00; text-decoration-color: #00af00\">3,000</span> │\n",
       "├─────────────────────────────────┼────────────────────────┼───────────────┤\n",
       "│ conv2d_1 (<span style=\"color: #0087ff; text-decoration-color: #0087ff\">Conv2D</span>)               │ (<span style=\"color: #00d7ff; text-decoration-color: #00d7ff\">None</span>, <span style=\"color: #00af00; text-decoration-color: #00af00\">24</span>, <span style=\"color: #00af00; text-decoration-color: #00af00\">24</span>, <span style=\"color: #00af00; text-decoration-color: #00af00\">300</span>)    │       <span style=\"color: #00af00; text-decoration-color: #00af00\">810,300</span> │\n",
       "├─────────────────────────────────┼────────────────────────┼───────────────┤\n",
       "│ max_pooling2d (<span style=\"color: #0087ff; text-decoration-color: #0087ff\">MaxPooling2D</span>)    │ (<span style=\"color: #00d7ff; text-decoration-color: #00d7ff\">None</span>, <span style=\"color: #00af00; text-decoration-color: #00af00\">12</span>, <span style=\"color: #00af00; text-decoration-color: #00af00\">12</span>, <span style=\"color: #00af00; text-decoration-color: #00af00\">300</span>)    │             <span style=\"color: #00af00; text-decoration-color: #00af00\">0</span> │\n",
       "├─────────────────────────────────┼────────────────────────┼───────────────┤\n",
       "│ conv2d_2 (<span style=\"color: #0087ff; text-decoration-color: #0087ff\">Conv2D</span>)               │ (<span style=\"color: #00d7ff; text-decoration-color: #00d7ff\">None</span>, <span style=\"color: #00af00; text-decoration-color: #00af00\">10</span>, <span style=\"color: #00af00; text-decoration-color: #00af00\">10</span>, <span style=\"color: #00af00; text-decoration-color: #00af00\">600</span>)    │     <span style=\"color: #00af00; text-decoration-color: #00af00\">1,620,600</span> │\n",
       "├─────────────────────────────────┼────────────────────────┼───────────────┤\n",
       "│ conv2d_3 (<span style=\"color: #0087ff; text-decoration-color: #0087ff\">Conv2D</span>)               │ (<span style=\"color: #00d7ff; text-decoration-color: #00d7ff\">None</span>, <span style=\"color: #00af00; text-decoration-color: #00af00\">8</span>, <span style=\"color: #00af00; text-decoration-color: #00af00\">8</span>, <span style=\"color: #00af00; text-decoration-color: #00af00\">600</span>)      │     <span style=\"color: #00af00; text-decoration-color: #00af00\">3,240,600</span> │\n",
       "├─────────────────────────────────┼────────────────────────┼───────────────┤\n",
       "│ global_average_pooling2d        │ (<span style=\"color: #00d7ff; text-decoration-color: #00d7ff\">None</span>, <span style=\"color: #00af00; text-decoration-color: #00af00\">600</span>)            │             <span style=\"color: #00af00; text-decoration-color: #00af00\">0</span> │\n",
       "│ (<span style=\"color: #0087ff; text-decoration-color: #0087ff\">GlobalAveragePooling2D</span>)        │                        │               │\n",
       "├─────────────────────────────────┼────────────────────────┼───────────────┤\n",
       "│ dropout (<span style=\"color: #0087ff; text-decoration-color: #0087ff\">Dropout</span>)               │ (<span style=\"color: #00d7ff; text-decoration-color: #00d7ff\">None</span>, <span style=\"color: #00af00; text-decoration-color: #00af00\">600</span>)            │             <span style=\"color: #00af00; text-decoration-color: #00af00\">0</span> │\n",
       "├─────────────────────────────────┼────────────────────────┼───────────────┤\n",
       "│ dense (<span style=\"color: #0087ff; text-decoration-color: #0087ff\">Dense</span>)                   │ (<span style=\"color: #00d7ff; text-decoration-color: #00d7ff\">None</span>, <span style=\"color: #00af00; text-decoration-color: #00af00\">10</span>)             │         <span style=\"color: #00af00; text-decoration-color: #00af00\">6,010</span> │\n",
       "└─────────────────────────────────┴────────────────────────┴───────────────┘\n",
       "</pre>\n"
      ],
      "text/plain": [
       "┏━━━━━━━━━━━━━━━━━━━━━━━━━━━━━━━━━┳━━━━━━━━━━━━━━━━━━━━━━━━┳━━━━━━━━━━━━━━━┓\n",
       "┃\u001b[1m \u001b[0m\u001b[1mLayer (type)                   \u001b[0m\u001b[1m \u001b[0m┃\u001b[1m \u001b[0m\u001b[1mOutput Shape          \u001b[0m\u001b[1m \u001b[0m┃\u001b[1m \u001b[0m\u001b[1m      Param #\u001b[0m\u001b[1m \u001b[0m┃\n",
       "┡━━━━━━━━━━━━━━━━━━━━━━━━━━━━━━━━━╇━━━━━━━━━━━━━━━━━━━━━━━━╇━━━━━━━━━━━━━━━┩\n",
       "│ conv2d (\u001b[38;5;33mConv2D\u001b[0m)                 │ (\u001b[38;5;45mNone\u001b[0m, \u001b[38;5;34m26\u001b[0m, \u001b[38;5;34m26\u001b[0m, \u001b[38;5;34m300\u001b[0m)    │         \u001b[38;5;34m3,000\u001b[0m │\n",
       "├─────────────────────────────────┼────────────────────────┼───────────────┤\n",
       "│ conv2d_1 (\u001b[38;5;33mConv2D\u001b[0m)               │ (\u001b[38;5;45mNone\u001b[0m, \u001b[38;5;34m24\u001b[0m, \u001b[38;5;34m24\u001b[0m, \u001b[38;5;34m300\u001b[0m)    │       \u001b[38;5;34m810,300\u001b[0m │\n",
       "├─────────────────────────────────┼────────────────────────┼───────────────┤\n",
       "│ max_pooling2d (\u001b[38;5;33mMaxPooling2D\u001b[0m)    │ (\u001b[38;5;45mNone\u001b[0m, \u001b[38;5;34m12\u001b[0m, \u001b[38;5;34m12\u001b[0m, \u001b[38;5;34m300\u001b[0m)    │             \u001b[38;5;34m0\u001b[0m │\n",
       "├─────────────────────────────────┼────────────────────────┼───────────────┤\n",
       "│ conv2d_2 (\u001b[38;5;33mConv2D\u001b[0m)               │ (\u001b[38;5;45mNone\u001b[0m, \u001b[38;5;34m10\u001b[0m, \u001b[38;5;34m10\u001b[0m, \u001b[38;5;34m600\u001b[0m)    │     \u001b[38;5;34m1,620,600\u001b[0m │\n",
       "├─────────────────────────────────┼────────────────────────┼───────────────┤\n",
       "│ conv2d_3 (\u001b[38;5;33mConv2D\u001b[0m)               │ (\u001b[38;5;45mNone\u001b[0m, \u001b[38;5;34m8\u001b[0m, \u001b[38;5;34m8\u001b[0m, \u001b[38;5;34m600\u001b[0m)      │     \u001b[38;5;34m3,240,600\u001b[0m │\n",
       "├─────────────────────────────────┼────────────────────────┼───────────────┤\n",
       "│ global_average_pooling2d        │ (\u001b[38;5;45mNone\u001b[0m, \u001b[38;5;34m600\u001b[0m)            │             \u001b[38;5;34m0\u001b[0m │\n",
       "│ (\u001b[38;5;33mGlobalAveragePooling2D\u001b[0m)        │                        │               │\n",
       "├─────────────────────────────────┼────────────────────────┼───────────────┤\n",
       "│ dropout (\u001b[38;5;33mDropout\u001b[0m)               │ (\u001b[38;5;45mNone\u001b[0m, \u001b[38;5;34m600\u001b[0m)            │             \u001b[38;5;34m0\u001b[0m │\n",
       "├─────────────────────────────────┼────────────────────────┼───────────────┤\n",
       "│ dense (\u001b[38;5;33mDense\u001b[0m)                   │ (\u001b[38;5;45mNone\u001b[0m, \u001b[38;5;34m10\u001b[0m)             │         \u001b[38;5;34m6,010\u001b[0m │\n",
       "└─────────────────────────────────┴────────────────────────┴───────────────┘\n"
      ]
     },
     "metadata": {},
     "output_type": "display_data"
    },
    {
     "data": {
      "text/html": [
       "<pre style=\"white-space:pre;overflow-x:auto;line-height:normal;font-family:Menlo,'DejaVu Sans Mono',consolas,'Courier New',monospace\"><span style=\"font-weight: bold\"> Total params: </span><span style=\"color: #00af00; text-decoration-color: #00af00\">5,680,510</span> (21.67 MB)\n",
       "</pre>\n"
      ],
      "text/plain": [
       "\u001b[1m Total params: \u001b[0m\u001b[38;5;34m5,680,510\u001b[0m (21.67 MB)\n"
      ]
     },
     "metadata": {},
     "output_type": "display_data"
    },
    {
     "data": {
      "text/html": [
       "<pre style=\"white-space:pre;overflow-x:auto;line-height:normal;font-family:Menlo,'DejaVu Sans Mono',consolas,'Courier New',monospace\"><span style=\"font-weight: bold\"> Trainable params: </span><span style=\"color: #00af00; text-decoration-color: #00af00\">5,680,510</span> (21.67 MB)\n",
       "</pre>\n"
      ],
      "text/plain": [
       "\u001b[1m Trainable params: \u001b[0m\u001b[38;5;34m5,680,510\u001b[0m (21.67 MB)\n"
      ]
     },
     "metadata": {},
     "output_type": "display_data"
    },
    {
     "data": {
      "text/html": [
       "<pre style=\"white-space:pre;overflow-x:auto;line-height:normal;font-family:Menlo,'DejaVu Sans Mono',consolas,'Courier New',monospace\"><span style=\"font-weight: bold\"> Non-trainable params: </span><span style=\"color: #00af00; text-decoration-color: #00af00\">0</span> (0.00 B)\n",
       "</pre>\n"
      ],
      "text/plain": [
       "\u001b[1m Non-trainable params: \u001b[0m\u001b[38;5;34m0\u001b[0m (0.00 B)\n"
      ]
     },
     "metadata": {},
     "output_type": "display_data"
    }
   ],
   "source": [
    "mnist_model.summary()"
   ]
  },
  {
   "cell_type": "code",
   "execution_count": 6,
   "id": "8d10d4d6",
   "metadata": {
    "execution": {
     "iopub.execute_input": "2024-07-01T17:10:01.384809Z",
     "iopub.status.busy": "2024-07-01T17:10:01.384496Z",
     "iopub.status.idle": "2024-07-01T17:10:01.403586Z",
     "shell.execute_reply": "2024-07-01T17:10:01.402648Z"
    },
    "papermill": {
     "duration": 0.028342,
     "end_time": "2024-07-01T17:10:01.405539",
     "exception": false,
     "start_time": "2024-07-01T17:10:01.377197",
     "status": "completed"
    },
    "tags": []
   },
   "outputs": [
    {
     "name": "stdout",
     "output_type": "stream",
     "text": [
      "Block executed\n"
     ]
    }
   ],
   "source": [
    "mnist_model.compile(loss = keras.losses.SparseCategoricalCrossentropy(),\n",
    "             optimizer = keras.optimizers.Adam(learning_rate = 1e-3),\n",
    "                    metrics = [keras.metrics.SparseCategoricalAccuracy(name = \"acc\",),])\n",
    "print(\"Block executed\")"
   ]
  },
  {
   "cell_type": "code",
   "execution_count": 7,
   "id": "04cabf29",
   "metadata": {
    "execution": {
     "iopub.execute_input": "2024-07-01T17:10:01.419412Z",
     "iopub.status.busy": "2024-07-01T17:10:01.419062Z",
     "iopub.status.idle": "2024-07-01T17:19:35.414833Z",
     "shell.execute_reply": "2024-07-01T17:19:35.413817Z"
    },
    "papermill": {
     "duration": 574.005036,
     "end_time": "2024-07-01T17:19:35.416820",
     "exception": false,
     "start_time": "2024-07-01T17:10:01.411784",
     "status": "completed"
    },
    "tags": []
   },
   "outputs": [
    {
     "name": "stdout",
     "output_type": "stream",
     "text": [
      "Epoch 1/30\n"
     ]
    },
    {
     "name": "stderr",
     "output_type": "stream",
     "text": [
      "2024-07-01 17:10:20.915056: E external/local_xla/xla/service/slow_operation_alarm.cc:65] Trying algorithm eng0{} for conv (f32[300,300,3,3]{3,2,1,0}, u8[0]{0}) custom-call(f32[256,300,26,26]{3,2,1,0}, f32[256,300,24,24]{3,2,1,0}), window={size=3x3}, dim_labels=bf01_oi01->bf01, custom_call_target=\"__cudnn$convBackwardFilter\", backend_config={\"conv_result_scale\":1,\"activation_mode\":\"kNone\",\"side_input_scale\":0,\"leakyrelu_alpha\":0} is taking a while...\n",
      "2024-07-01 17:10:24.480741: E external/local_xla/xla/service/slow_operation_alarm.cc:133] The operation took 4.565776254s\n",
      "Trying algorithm eng0{} for conv (f32[300,300,3,3]{3,2,1,0}, u8[0]{0}) custom-call(f32[256,300,26,26]{3,2,1,0}, f32[256,300,24,24]{3,2,1,0}), window={size=3x3}, dim_labels=bf01_oi01->bf01, custom_call_target=\"__cudnn$convBackwardFilter\", backend_config={\"conv_result_scale\":1,\"activation_mode\":\"kNone\",\"side_input_scale\":0,\"leakyrelu_alpha\":0} is taking a while...\n",
      "2024-07-01 17:10:27.310557: E external/local_xla/xla/service/slow_operation_alarm.cc:65] Trying algorithm eng0{} for conv (f32[300,300,3,3]{3,2,1,0}, u8[0]{0}) custom-call(f32[256,300,26,26]{3,2,1,0}, f32[256,300,24,24]{3,2,1,0}), window={size=3x3}, dim_labels=bf01_oi01->bf01, custom_call_target=\"__cudnn$convBackwardFilter\", backend_config={\"conv_result_scale\":1,\"activation_mode\":\"kNone\",\"side_input_scale\":0,\"leakyrelu_alpha\":0} is taking a while...\n",
      "2024-07-01 17:10:30.876187: E external/local_xla/xla/service/slow_operation_alarm.cc:133] The operation took 4.565747775s\n",
      "Trying algorithm eng0{} for conv (f32[300,300,3,3]{3,2,1,0}, u8[0]{0}) custom-call(f32[256,300,26,26]{3,2,1,0}, f32[256,300,24,24]{3,2,1,0}), window={size=3x3}, dim_labels=bf01_oi01->bf01, custom_call_target=\"__cudnn$convBackwardFilter\", backend_config={\"conv_result_scale\":1,\"activation_mode\":\"kNone\",\"side_input_scale\":0,\"leakyrelu_alpha\":0} is taking a while...\n",
      "2024-07-01 17:10:32.582712: E external/local_xla/xla/service/slow_operation_alarm.cc:65] Trying algorithm eng0{} for conv (f32[600,300,3,3]{3,2,1,0}, u8[0]{0}) custom-call(f32[256,300,12,12]{3,2,1,0}, f32[256,600,10,10]{3,2,1,0}), window={size=3x3}, dim_labels=bf01_oi01->bf01, custom_call_target=\"__cudnn$convBackwardFilter\", backend_config={\"conv_result_scale\":1,\"activation_mode\":\"kNone\",\"side_input_scale\":0,\"leakyrelu_alpha\":0} is taking a while...\n",
      "2024-07-01 17:10:33.173262: E external/local_xla/xla/service/slow_operation_alarm.cc:133] The operation took 1.590694745s\n",
      "Trying algorithm eng0{} for conv (f32[600,300,3,3]{3,2,1,0}, u8[0]{0}) custom-call(f32[256,300,12,12]{3,2,1,0}, f32[256,600,10,10]{3,2,1,0}), window={size=3x3}, dim_labels=bf01_oi01->bf01, custom_call_target=\"__cudnn$convBackwardFilter\", backend_config={\"conv_result_scale\":1,\"activation_mode\":\"kNone\",\"side_input_scale\":0,\"leakyrelu_alpha\":0} is taking a while...\n",
      "2024-07-01 17:10:34.845822: E external/local_xla/xla/service/slow_operation_alarm.cc:65] Trying algorithm eng0{} for conv (f32[600,300,3,3]{3,2,1,0}, u8[0]{0}) custom-call(f32[256,300,12,12]{3,2,1,0}, f32[256,600,10,10]{3,2,1,0}), window={size=3x3}, dim_labels=bf01_oi01->bf01, custom_call_target=\"__cudnn$convBackwardFilter\", backend_config={\"conv_result_scale\":1,\"activation_mode\":\"kNone\",\"side_input_scale\":0,\"leakyrelu_alpha\":0} is taking a while...\n",
      "2024-07-01 17:10:35.436067: E external/local_xla/xla/service/slow_operation_alarm.cc:133] The operation took 1.590358617s\n",
      "Trying algorithm eng0{} for conv (f32[600,300,3,3]{3,2,1,0}, u8[0]{0}) custom-call(f32[256,300,12,12]{3,2,1,0}, f32[256,600,10,10]{3,2,1,0}), window={size=3x3}, dim_labels=bf01_oi01->bf01, custom_call_target=\"__cudnn$convBackwardFilter\", backend_config={\"conv_result_scale\":1,\"activation_mode\":\"kNone\",\"side_input_scale\":0,\"leakyrelu_alpha\":0} is taking a while...\n",
      "2024-07-01 17:10:37.418282: E external/local_xla/xla/service/slow_operation_alarm.cc:65] Trying algorithm eng0{} for conv (f32[600,600,3,3]{3,2,1,0}, u8[0]{0}) custom-call(f32[256,600,10,10]{3,2,1,0}, f32[256,600,8,8]{3,2,1,0}), window={size=3x3}, dim_labels=bf01_oi01->bf01, custom_call_target=\"__cudnn$convBackwardFilter\", backend_config={\"conv_result_scale\":1,\"activation_mode\":\"kNone\",\"side_input_scale\":0,\"leakyrelu_alpha\":0} is taking a while...\n",
      "2024-07-01 17:10:38.455941: E external/local_xla/xla/service/slow_operation_alarm.cc:133] The operation took 2.037774508s\n",
      "Trying algorithm eng0{} for conv (f32[600,600,3,3]{3,2,1,0}, u8[0]{0}) custom-call(f32[256,600,10,10]{3,2,1,0}, f32[256,600,8,8]{3,2,1,0}), window={size=3x3}, dim_labels=bf01_oi01->bf01, custom_call_target=\"__cudnn$convBackwardFilter\", backend_config={\"conv_result_scale\":1,\"activation_mode\":\"kNone\",\"side_input_scale\":0,\"leakyrelu_alpha\":0} is taking a while...\n",
      "2024-07-01 17:10:40.404810: E external/local_xla/xla/service/slow_operation_alarm.cc:65] Trying algorithm eng0{} for conv (f32[600,600,3,3]{3,2,1,0}, u8[0]{0}) custom-call(f32[256,600,10,10]{3,2,1,0}, f32[256,600,8,8]{3,2,1,0}), window={size=3x3}, dim_labels=bf01_oi01->bf01, custom_call_target=\"__cudnn$convBackwardFilter\", backend_config={\"conv_result_scale\":1,\"activation_mode\":\"kNone\",\"side_input_scale\":0,\"leakyrelu_alpha\":0} is taking a while...\n",
      "2024-07-01 17:10:41.442603: E external/local_xla/xla/service/slow_operation_alarm.cc:133] The operation took 2.037890168s\n",
      "Trying algorithm eng0{} for conv (f32[600,600,3,3]{3,2,1,0}, u8[0]{0}) custom-call(f32[256,600,10,10]{3,2,1,0}, f32[256,600,8,8]{3,2,1,0}), window={size=3x3}, dim_labels=bf01_oi01->bf01, custom_call_target=\"__cudnn$convBackwardFilter\", backend_config={\"conv_result_scale\":1,\"activation_mode\":\"kNone\",\"side_input_scale\":0,\"leakyrelu_alpha\":0} is taking a while...\n"
     ]
    },
    {
     "name": "stdout",
     "output_type": "stream",
     "text": [
      "\u001b[1m  2/188\u001b[0m \u001b[37m━━━━━━━━━━━━━━━━━━━━\u001b[0m \u001b[1m15s\u001b[0m 85ms/step - acc: 0.0879 - loss: 32.0377  "
     ]
    },
    {
     "name": "stderr",
     "output_type": "stream",
     "text": [
      "WARNING: All log messages before absl::InitializeLog() is called are written to STDERR\n",
      "I0000 00:00:1719853843.351715      66 device_compiler.h:186] Compiled cluster using XLA!  This line is logged at most once for the lifetime of the process.\n"
     ]
    },
    {
     "name": "stdout",
     "output_type": "stream",
     "text": [
      "\u001b[1m187/188\u001b[0m \u001b[32m━━━━━━━━━━━━━━━━━━━\u001b[0m\u001b[37m━\u001b[0m \u001b[1m0s\u001b[0m 83ms/step - acc: 0.3631 - loss: 5.4105"
     ]
    },
    {
     "name": "stderr",
     "output_type": "stream",
     "text": [
      "2024-07-01 17:11:08.653057: E external/local_xla/xla/service/slow_operation_alarm.cc:65] Trying algorithm eng0{} for conv (f32[300,300,3,3]{3,2,1,0}, u8[0]{0}) custom-call(f32[128,300,26,26]{3,2,1,0}, f32[128,300,24,24]{3,2,1,0}), window={size=3x3}, dim_labels=bf01_oi01->bf01, custom_call_target=\"__cudnn$convBackwardFilter\", backend_config={\"conv_result_scale\":1,\"activation_mode\":\"kNone\",\"side_input_scale\":0,\"leakyrelu_alpha\":0} is taking a while...\n",
      "2024-07-01 17:11:09.938571: E external/local_xla/xla/service/slow_operation_alarm.cc:133] The operation took 2.285702885s\n",
      "Trying algorithm eng0{} for conv (f32[300,300,3,3]{3,2,1,0}, u8[0]{0}) custom-call(f32[128,300,26,26]{3,2,1,0}, f32[128,300,24,24]{3,2,1,0}), window={size=3x3}, dim_labels=bf01_oi01->bf01, custom_call_target=\"__cudnn$convBackwardFilter\", backend_config={\"conv_result_scale\":1,\"activation_mode\":\"kNone\",\"side_input_scale\":0,\"leakyrelu_alpha\":0} is taking a while...\n",
      "2024-07-01 17:11:11.869657: E external/local_xla/xla/service/slow_operation_alarm.cc:65] Trying algorithm eng0{} for conv (f32[300,300,3,3]{3,2,1,0}, u8[0]{0}) custom-call(f32[128,300,26,26]{3,2,1,0}, f32[128,300,24,24]{3,2,1,0}), window={size=3x3}, dim_labels=bf01_oi01->bf01, custom_call_target=\"__cudnn$convBackwardFilter\", backend_config={\"conv_result_scale\":1,\"activation_mode\":\"kNone\",\"side_input_scale\":0,\"leakyrelu_alpha\":0} is taking a while...\n",
      "2024-07-01 17:11:13.154648: E external/local_xla/xla/service/slow_operation_alarm.cc:133] The operation took 2.285173834s\n",
      "Trying algorithm eng0{} for conv (f32[300,300,3,3]{3,2,1,0}, u8[0]{0}) custom-call(f32[128,300,26,26]{3,2,1,0}, f32[128,300,24,24]{3,2,1,0}), window={size=3x3}, dim_labels=bf01_oi01->bf01, custom_call_target=\"__cudnn$convBackwardFilter\", backend_config={\"conv_result_scale\":1,\"activation_mode\":\"kNone\",\"side_input_scale\":0,\"leakyrelu_alpha\":0} is taking a while...\n",
      "2024-07-01 17:11:16.935732: E external/local_xla/xla/service/slow_operation_alarm.cc:65] Trying algorithm eng0{} for conv (f32[600,600,3,3]{3,2,1,0}, u8[0]{0}) custom-call(f32[128,600,10,10]{3,2,1,0}, f32[128,600,8,8]{3,2,1,0}), window={size=3x3}, dim_labels=bf01_oi01->bf01, custom_call_target=\"__cudnn$convBackwardFilter\", backend_config={\"conv_result_scale\":1,\"activation_mode\":\"kNone\",\"side_input_scale\":0,\"leakyrelu_alpha\":0} is taking a while...\n",
      "2024-07-01 17:11:16.962102: E external/local_xla/xla/service/slow_operation_alarm.cc:133] The operation took 1.026492911s\n",
      "Trying algorithm eng0{} for conv (f32[600,600,3,3]{3,2,1,0}, u8[0]{0}) custom-call(f32[128,600,10,10]{3,2,1,0}, f32[128,600,8,8]{3,2,1,0}), window={size=3x3}, dim_labels=bf01_oi01->bf01, custom_call_target=\"__cudnn$convBackwardFilter\", backend_config={\"conv_result_scale\":1,\"activation_mode\":\"kNone\",\"side_input_scale\":0,\"leakyrelu_alpha\":0} is taking a while...\n",
      "2024-07-01 17:11:18.451366: E external/local_xla/xla/service/slow_operation_alarm.cc:65] Trying algorithm eng0{} for conv (f32[600,600,3,3]{3,2,1,0}, u8[0]{0}) custom-call(f32[128,600,10,10]{3,2,1,0}, f32[128,600,8,8]{3,2,1,0}), window={size=3x3}, dim_labels=bf01_oi01->bf01, custom_call_target=\"__cudnn$convBackwardFilter\", backend_config={\"conv_result_scale\":1,\"activation_mode\":\"kNone\",\"side_input_scale\":0,\"leakyrelu_alpha\":0} is taking a while...\n",
      "2024-07-01 17:11:18.476583: E external/local_xla/xla/service/slow_operation_alarm.cc:133] The operation took 1.025371945s\n",
      "Trying algorithm eng0{} for conv (f32[600,600,3,3]{3,2,1,0}, u8[0]{0}) custom-call(f32[128,600,10,10]{3,2,1,0}, f32[128,600,8,8]{3,2,1,0}), window={size=3x3}, dim_labels=bf01_oi01->bf01, custom_call_target=\"__cudnn$convBackwardFilter\", backend_config={\"conv_result_scale\":1,\"activation_mode\":\"kNone\",\"side_input_scale\":0,\"leakyrelu_alpha\":0} is taking a while...\n"
     ]
    },
    {
     "name": "stdout",
     "output_type": "stream",
     "text": [
      "\u001b[1m188/188\u001b[0m \u001b[32m━━━━━━━━━━━━━━━━━━━━\u001b[0m\u001b[37m\u001b[0m \u001b[1m88s\u001b[0m 245ms/step - acc: 0.3662 - loss: 5.3718 - val_acc: 0.9728 - val_loss: 0.0928\n",
      "Epoch 2/30\n",
      "\u001b[1m188/188\u001b[0m \u001b[32m━━━━━━━━━━━━━━━━━━━━\u001b[0m\u001b[37m\u001b[0m \u001b[1m16s\u001b[0m 87ms/step - acc: 0.9637 - loss: 0.1207 - val_acc: 0.9861 - val_loss: 0.0474\n",
      "Epoch 3/30\n",
      "\u001b[1m188/188\u001b[0m \u001b[32m━━━━━━━━━━━━━━━━━━━━\u001b[0m\u001b[37m\u001b[0m \u001b[1m16s\u001b[0m 87ms/step - acc: 0.9782 - loss: 0.0699 - val_acc: 0.9891 - val_loss: 0.0399\n",
      "Epoch 4/30\n",
      "\u001b[1m188/188\u001b[0m \u001b[32m━━━━━━━━━━━━━━━━━━━━\u001b[0m\u001b[37m\u001b[0m \u001b[1m16s\u001b[0m 87ms/step - acc: 0.9839 - loss: 0.0519 - val_acc: 0.9872 - val_loss: 0.0458\n",
      "Epoch 5/30\n",
      "\u001b[1m188/188\u001b[0m \u001b[32m━━━━━━━━━━━━━━━━━━━━\u001b[0m\u001b[37m\u001b[0m \u001b[1m16s\u001b[0m 87ms/step - acc: 0.9867 - loss: 0.0407 - val_acc: 0.9849 - val_loss: 0.0517\n",
      "Epoch 6/30\n",
      "\u001b[1m188/188\u001b[0m \u001b[32m━━━━━━━━━━━━━━━━━━━━\u001b[0m\u001b[37m\u001b[0m \u001b[1m16s\u001b[0m 87ms/step - acc: 0.9878 - loss: 0.0391 - val_acc: 0.9887 - val_loss: 0.0360\n",
      "Epoch 7/30\n",
      "\u001b[1m188/188\u001b[0m \u001b[32m━━━━━━━━━━━━━━━━━━━━\u001b[0m\u001b[37m\u001b[0m \u001b[1m16s\u001b[0m 87ms/step - acc: 0.9902 - loss: 0.0308 - val_acc: 0.9919 - val_loss: 0.0262\n",
      "Epoch 8/30\n",
      "\u001b[1m188/188\u001b[0m \u001b[32m━━━━━━━━━━━━━━━━━━━━\u001b[0m\u001b[37m\u001b[0m \u001b[1m16s\u001b[0m 87ms/step - acc: 0.9911 - loss: 0.0261 - val_acc: 0.9905 - val_loss: 0.0306\n",
      "Epoch 9/30\n",
      "\u001b[1m188/188\u001b[0m \u001b[32m━━━━━━━━━━━━━━━━━━━━\u001b[0m\u001b[37m\u001b[0m \u001b[1m16s\u001b[0m 87ms/step - acc: 0.9928 - loss: 0.0244 - val_acc: 0.9927 - val_loss: 0.0247\n",
      "Epoch 10/30\n",
      "\u001b[1m188/188\u001b[0m \u001b[32m━━━━━━━━━━━━━━━━━━━━\u001b[0m\u001b[37m\u001b[0m \u001b[1m16s\u001b[0m 87ms/step - acc: 0.9938 - loss: 0.0206 - val_acc: 0.9920 - val_loss: 0.0261\n",
      "Epoch 11/30\n",
      "\u001b[1m188/188\u001b[0m \u001b[32m━━━━━━━━━━━━━━━━━━━━\u001b[0m\u001b[37m\u001b[0m \u001b[1m16s\u001b[0m 87ms/step - acc: 0.9936 - loss: 0.0217 - val_acc: 0.9924 - val_loss: 0.0270\n",
      "Epoch 12/30\n",
      "\u001b[1m188/188\u001b[0m \u001b[32m━━━━━━━━━━━━━━━━━━━━\u001b[0m\u001b[37m\u001b[0m \u001b[1m16s\u001b[0m 87ms/step - acc: 0.9945 - loss: 0.0169 - val_acc: 0.9912 - val_loss: 0.0300\n",
      "Epoch 13/30\n",
      "\u001b[1m188/188\u001b[0m \u001b[32m━━━━━━━━━━━━━━━━━━━━\u001b[0m\u001b[37m\u001b[0m \u001b[1m16s\u001b[0m 87ms/step - acc: 0.9938 - loss: 0.0173 - val_acc: 0.9926 - val_loss: 0.0242\n",
      "Epoch 14/30\n",
      "\u001b[1m188/188\u001b[0m \u001b[32m━━━━━━━━━━━━━━━━━━━━\u001b[0m\u001b[37m\u001b[0m \u001b[1m16s\u001b[0m 87ms/step - acc: 0.9946 - loss: 0.0161 - val_acc: 0.9920 - val_loss: 0.0284\n",
      "Epoch 15/30\n",
      "\u001b[1m188/188\u001b[0m \u001b[32m━━━━━━━━━━━━━━━━━━━━\u001b[0m\u001b[37m\u001b[0m \u001b[1m20s\u001b[0m 87ms/step - acc: 0.9959 - loss: 0.0117 - val_acc: 0.9934 - val_loss: 0.0254\n",
      "Epoch 16/30\n",
      "\u001b[1m188/188\u001b[0m \u001b[32m━━━━━━━━━━━━━━━━━━━━\u001b[0m\u001b[37m\u001b[0m \u001b[1m16s\u001b[0m 87ms/step - acc: 0.9955 - loss: 0.0129 - val_acc: 0.9924 - val_loss: 0.0305\n",
      "Epoch 17/30\n",
      "\u001b[1m188/188\u001b[0m \u001b[32m━━━━━━━━━━━━━━━━━━━━\u001b[0m\u001b[37m\u001b[0m \u001b[1m16s\u001b[0m 87ms/step - acc: 0.9963 - loss: 0.0102 - val_acc: 0.9928 - val_loss: 0.0311\n",
      "Epoch 18/30\n",
      "\u001b[1m188/188\u001b[0m \u001b[32m━━━━━━━━━━━━━━━━━━━━\u001b[0m\u001b[37m\u001b[0m \u001b[1m16s\u001b[0m 87ms/step - acc: 0.9962 - loss: 0.0115 - val_acc: 0.9927 - val_loss: 0.0274\n",
      "Epoch 19/30\n",
      "\u001b[1m188/188\u001b[0m \u001b[32m━━━━━━━━━━━━━━━━━━━━\u001b[0m\u001b[37m\u001b[0m \u001b[1m16s\u001b[0m 87ms/step - acc: 0.9964 - loss: 0.0113 - val_acc: 0.9939 - val_loss: 0.0252\n",
      "Epoch 20/30\n",
      "\u001b[1m188/188\u001b[0m \u001b[32m━━━━━━━━━━━━━━━━━━━━\u001b[0m\u001b[37m\u001b[0m \u001b[1m20s\u001b[0m 87ms/step - acc: 0.9971 - loss: 0.0088 - val_acc: 0.9915 - val_loss: 0.0321\n",
      "Epoch 21/30\n",
      "\u001b[1m188/188\u001b[0m \u001b[32m━━━━━━━━━━━━━━━━━━━━\u001b[0m\u001b[37m\u001b[0m \u001b[1m16s\u001b[0m 87ms/step - acc: 0.9965 - loss: 0.0100 - val_acc: 0.9922 - val_loss: 0.0340\n",
      "Epoch 22/30\n",
      "\u001b[1m188/188\u001b[0m \u001b[32m━━━━━━━━━━━━━━━━━━━━\u001b[0m\u001b[37m\u001b[0m \u001b[1m16s\u001b[0m 87ms/step - acc: 0.9969 - loss: 0.0089 - val_acc: 0.9918 - val_loss: 0.0312\n",
      "Epoch 23/30\n",
      "\u001b[1m188/188\u001b[0m \u001b[32m━━━━━━━━━━━━━━━━━━━━\u001b[0m\u001b[37m\u001b[0m \u001b[1m16s\u001b[0m 87ms/step - acc: 0.9974 - loss: 0.0072 - val_acc: 0.9936 - val_loss: 0.0291\n",
      "Epoch 24/30\n",
      "\u001b[1m188/188\u001b[0m \u001b[32m━━━━━━━━━━━━━━━━━━━━\u001b[0m\u001b[37m\u001b[0m \u001b[1m20s\u001b[0m 87ms/step - acc: 0.9976 - loss: 0.0071 - val_acc: 0.9942 - val_loss: 0.0250\n",
      "Epoch 25/30\n",
      "\u001b[1m188/188\u001b[0m \u001b[32m━━━━━━━━━━━━━━━━━━━━\u001b[0m\u001b[37m\u001b[0m \u001b[1m16s\u001b[0m 87ms/step - acc: 0.9979 - loss: 0.0062 - val_acc: 0.9914 - val_loss: 0.0388\n",
      "Epoch 26/30\n",
      "\u001b[1m188/188\u001b[0m \u001b[32m━━━━━━━━━━━━━━━━━━━━\u001b[0m\u001b[37m\u001b[0m \u001b[1m16s\u001b[0m 87ms/step - acc: 0.9975 - loss: 0.0074 - val_acc: 0.9913 - val_loss: 0.0335\n",
      "Epoch 27/30\n",
      "\u001b[1m188/188\u001b[0m \u001b[32m━━━━━━━━━━━━━━━━━━━━\u001b[0m\u001b[37m\u001b[0m \u001b[1m16s\u001b[0m 87ms/step - acc: 0.9965 - loss: 0.0098 - val_acc: 0.9926 - val_loss: 0.0324\n",
      "Epoch 28/30\n",
      "\u001b[1m188/188\u001b[0m \u001b[32m━━━━━━━━━━━━━━━━━━━━\u001b[0m\u001b[37m\u001b[0m \u001b[1m16s\u001b[0m 87ms/step - acc: 0.9979 - loss: 0.0056 - val_acc: 0.9923 - val_loss: 0.0348\n",
      "Epoch 29/30\n",
      "\u001b[1m188/188\u001b[0m \u001b[32m━━━━━━━━━━━━━━━━━━━━\u001b[0m\u001b[37m\u001b[0m \u001b[1m16s\u001b[0m 87ms/step - acc: 0.9975 - loss: 0.0078 - val_acc: 0.9923 - val_loss: 0.0370\n",
      "Epoch 30/30\n",
      "\u001b[1m188/188\u001b[0m \u001b[32m━━━━━━━━━━━━━━━━━━━━\u001b[0m\u001b[37m\u001b[0m \u001b[1m16s\u001b[0m 87ms/step - acc: 0.9973 - loss: 0.0078 - val_acc: 0.9929 - val_loss: 0.0317\n"
     ]
    },
    {
     "data": {
      "text/plain": [
       "<keras.src.callbacks.history.History at 0x7d97b810ee90>"
      ]
     },
     "execution_count": 7,
     "metadata": {},
     "output_type": "execute_result"
    }
   ],
   "source": [
    "batch_size = 256\n",
    "epochs = 30\n",
    "mnist_model.fit(x_train,y_train,batch_size = batch_size,epochs = epochs , validation_split = 0.20 , callbacks  = None)\n"
   ]
  },
  {
   "cell_type": "code",
   "execution_count": 8,
   "id": "480d43cd",
   "metadata": {
    "execution": {
     "iopub.execute_input": "2024-07-01T17:19:36.369283Z",
     "iopub.status.busy": "2024-07-01T17:19:36.368884Z",
     "iopub.status.idle": "2024-07-01T17:19:41.104780Z",
     "shell.execute_reply": "2024-07-01T17:19:41.103997Z"
    },
    "papermill": {
     "duration": 5.216713,
     "end_time": "2024-07-01T17:19:41.106955",
     "exception": false,
     "start_time": "2024-07-01T17:19:35.890242",
     "status": "completed"
    },
    "tags": []
   },
   "outputs": [
    {
     "name": "stdout",
     "output_type": "stream",
     "text": [
      "\u001b[1m313/313\u001b[0m \u001b[32m━━━━━━━━━━━━━━━━━━━━\u001b[0m\u001b[37m\u001b[0m \u001b[1m5s\u001b[0m 9ms/step - acc: 0.9918 - loss: 0.0327\n"
     ]
    }
   ],
   "source": [
    "score = mnist_model.evaluate(x_test,y_test,verbose = 1)"
   ]
  },
  {
   "cell_type": "code",
   "execution_count": 9,
   "id": "5c5e52e9",
   "metadata": {
    "execution": {
     "iopub.execute_input": "2024-07-01T17:19:42.112351Z",
     "iopub.status.busy": "2024-07-01T17:19:42.111567Z",
     "iopub.status.idle": "2024-07-01T17:19:42.378901Z",
     "shell.execute_reply": "2024-07-01T17:19:42.378024Z"
    },
    "papermill": {
     "duration": 0.79517,
     "end_time": "2024-07-01T17:19:42.381385",
     "exception": false,
     "start_time": "2024-07-01T17:19:41.586215",
     "status": "completed"
    },
    "tags": []
   },
   "outputs": [],
   "source": [
    "mnist_model.save(\"final_mnist_model.keras\")"
   ]
  },
  {
   "cell_type": "code",
   "execution_count": 10,
   "id": "19bcd017",
   "metadata": {
    "execution": {
     "iopub.execute_input": "2024-07-01T17:19:43.353905Z",
     "iopub.status.busy": "2024-07-01T17:19:43.353542Z",
     "iopub.status.idle": "2024-07-01T17:19:45.467188Z",
     "shell.execute_reply": "2024-07-01T17:19:45.466370Z"
    },
    "papermill": {
     "duration": 2.598859,
     "end_time": "2024-07-01T17:19:45.469408",
     "exception": false,
     "start_time": "2024-07-01T17:19:42.870549",
     "status": "completed"
    },
    "tags": []
   },
   "outputs": [
    {
     "name": "stdout",
     "output_type": "stream",
     "text": [
      "\u001b[1m313/313\u001b[0m \u001b[32m━━━━━━━━━━━━━━━━━━━━\u001b[0m\u001b[37m\u001b[0m \u001b[1m2s\u001b[0m 5ms/step\n"
     ]
    }
   ],
   "source": [
    "predictions = mnist_model.predict(x_test)"
   ]
  },
  {
   "cell_type": "code",
   "execution_count": 11,
   "id": "b4ec919e",
   "metadata": {
    "execution": {
     "iopub.execute_input": "2024-07-01T17:19:46.495263Z",
     "iopub.status.busy": "2024-07-01T17:19:46.494887Z",
     "iopub.status.idle": "2024-07-01T17:19:46.502669Z",
     "shell.execute_reply": "2024-07-01T17:19:46.501658Z"
    },
    "papermill": {
     "duration": 0.543858,
     "end_time": "2024-07-01T17:19:46.505002",
     "exception": false,
     "start_time": "2024-07-01T17:19:45.961144",
     "status": "completed"
    },
    "tags": []
   },
   "outputs": [
    {
     "data": {
      "text/plain": [
       "array([[1.8260476e-13, 3.3573069e-14, 8.1876256e-11, ..., 9.9999893e-01,\n",
       "        5.4803838e-14, 1.1136839e-06],\n",
       "       [1.5622596e-10, 1.7669897e-10, 1.0000000e+00, ..., 1.6594234e-14,\n",
       "        2.6252078e-12, 1.3004318e-13],\n",
       "       [2.7991333e-12, 1.0000000e+00, 1.7578746e-16, ..., 1.9934070e-09,\n",
       "        2.5439947e-10, 2.2138691e-13],\n",
       "       ...,\n",
       "       [1.4316545e-20, 4.5621893e-16, 6.7456455e-23, ..., 1.5801352e-18,\n",
       "        7.0469929e-14, 2.5002075e-16],\n",
       "       [7.1218073e-15, 6.0832088e-19, 4.2395772e-19, ..., 1.0757474e-18,\n",
       "        2.5701104e-11, 4.4419847e-13],\n",
       "       [3.4727492e-13, 7.0427191e-18, 1.5195659e-11, ..., 9.8336917e-26,\n",
       "        1.6187955e-14, 7.1115960e-16]], dtype=float32)"
      ]
     },
     "execution_count": 11,
     "metadata": {},
     "output_type": "execute_result"
    }
   ],
   "source": [
    "predictions"
   ]
  },
  {
   "cell_type": "code",
   "execution_count": 12,
   "id": "86ffaa36",
   "metadata": {
    "execution": {
     "iopub.execute_input": "2024-07-01T17:19:47.497870Z",
     "iopub.status.busy": "2024-07-01T17:19:47.497500Z",
     "iopub.status.idle": "2024-07-01T17:19:47.626538Z",
     "shell.execute_reply": "2024-07-01T17:19:47.625736Z"
    },
    "papermill": {
     "duration": 0.614942,
     "end_time": "2024-07-01T17:19:47.628726",
     "exception": false,
     "start_time": "2024-07-01T17:19:47.013784",
     "status": "completed"
    },
    "tags": []
   },
   "outputs": [],
   "source": [
    "mnist_model.save('Final_mnist_Model.h5')"
   ]
  }
 ],
 "metadata": {
  "kaggle": {
   "accelerator": "gpu",
   "dataSources": [],
   "dockerImageVersionId": 30733,
   "isGpuEnabled": true,
   "isInternetEnabled": true,
   "language": "python",
   "sourceType": "notebook"
  },
  "kernelspec": {
   "display_name": "Python 3",
   "language": "python",
   "name": "python3"
  },
  "language_info": {
   "codemirror_mode": {
    "name": "ipython",
    "version": 3
   },
   "file_extension": ".py",
   "mimetype": "text/x-python",
   "name": "python",
   "nbconvert_exporter": "python",
   "pygments_lexer": "ipython3",
   "version": "3.10.13"
  },
  "papermill": {
   "default_parameters": {},
   "duration": 607.661239,
   "end_time": "2024-07-01T17:19:50.822689",
   "environment_variables": {},
   "exception": null,
   "input_path": "__notebook__.ipynb",
   "output_path": "__notebook__.ipynb",
   "parameters": {},
   "start_time": "2024-07-01T17:09:43.161450",
   "version": "2.5.0"
  }
 },
 "nbformat": 4,
 "nbformat_minor": 5
}
