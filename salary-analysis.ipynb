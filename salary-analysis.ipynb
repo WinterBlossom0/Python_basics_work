{
 "cells": [
  {
   "cell_type": "code",
   "execution_count": 1,
   "id": "90a8efd8",
   "metadata": {
    "_cell_guid": "b1076dfc-b9ad-4769-8c92-a6c4dae69d19",
    "_uuid": "8f2839f25d086af736a60e9eeb907d3b93b6e0e5",
    "execution": {
     "iopub.execute_input": "2024-06-14T10:17:23.796870Z",
     "iopub.status.busy": "2024-06-14T10:17:23.796454Z",
     "iopub.status.idle": "2024-06-14T10:17:24.746514Z",
     "shell.execute_reply": "2024-06-14T10:17:24.745213Z"
    },
    "papermill": {
     "duration": 0.959901,
     "end_time": "2024-06-14T10:17:24.750437",
     "exception": false,
     "start_time": "2024-06-14T10:17:23.790536",
     "status": "completed"
    },
    "tags": []
   },
   "outputs": [],
   "source": [
    "# This Python 3 environment comes with many helpful analytics libraries installed\n",
    "# It is defined by the kaggle/python Docker image: https://github.com/kaggle/docker-python\n",
    "# For example, here's several helpful packages to load\n",
    "\n",
    "import numpy as np # linear algebra\n",
    "import pandas as pd # data processing, CSV file I/O (e.g. pd.read_csv)\n",
    "\n",
    "# Input data files are available in the read-only \"../input/\" directory\n",
    "# For example, running this (by clicking run or pressing Shift+Enter) will list all files under the input directory\n",
    "\n",
    "import matplotlib.pyplot as plt"
   ]
  },
  {
   "cell_type": "code",
   "execution_count": 2,
   "id": "4fe80071",
   "metadata": {
    "execution": {
     "iopub.execute_input": "2024-06-14T10:17:24.760643Z",
     "iopub.status.busy": "2024-06-14T10:17:24.760125Z",
     "iopub.status.idle": "2024-06-14T10:17:24.788925Z",
     "shell.execute_reply": "2024-06-14T10:17:24.787390Z"
    },
    "papermill": {
     "duration": 0.036871,
     "end_time": "2024-06-14T10:17:24.791637",
     "exception": false,
     "start_time": "2024-06-14T10:17:24.754766",
     "status": "completed"
    },
    "tags": []
   },
   "outputs": [
    {
     "name": "stdout",
     "output_type": "stream",
     "text": [
      "Block executed\n"
     ]
    }
   ],
   "source": [
    "sal_data = pd.read_csv(\"/kaggle/input/salary-dataset-simple-linear-regression/Salary_dataset.csv\")\n",
    "print(\"Block executed\")"
   ]
  },
  {
   "cell_type": "code",
   "execution_count": 3,
   "id": "0c615e60",
   "metadata": {
    "execution": {
     "iopub.execute_input": "2024-06-14T10:17:24.801611Z",
     "iopub.status.busy": "2024-06-14T10:17:24.800836Z",
     "iopub.status.idle": "2024-06-14T10:17:24.810568Z",
     "shell.execute_reply": "2024-06-14T10:17:24.809266Z"
    },
    "papermill": {
     "duration": 0.017136,
     "end_time": "2024-06-14T10:17:24.812773",
     "exception": false,
     "start_time": "2024-06-14T10:17:24.795637",
     "status": "completed"
    },
    "tags": []
   },
   "outputs": [
    {
     "data": {
      "text/plain": [
       "Index(['Unnamed: 0', 'YearsExperience', 'Salary'], dtype='object')"
      ]
     },
     "execution_count": 3,
     "metadata": {},
     "output_type": "execute_result"
    }
   ],
   "source": [
    "sal_data.columns"
   ]
  },
  {
   "cell_type": "code",
   "execution_count": 4,
   "id": "b1b8bc48",
   "metadata": {
    "execution": {
     "iopub.execute_input": "2024-06-14T10:17:24.823088Z",
     "iopub.status.busy": "2024-06-14T10:17:24.822673Z",
     "iopub.status.idle": "2024-06-14T10:17:24.846335Z",
     "shell.execute_reply": "2024-06-14T10:17:24.845251Z"
    },
    "papermill": {
     "duration": 0.031605,
     "end_time": "2024-06-14T10:17:24.848809",
     "exception": false,
     "start_time": "2024-06-14T10:17:24.817204",
     "status": "completed"
    },
    "tags": []
   },
   "outputs": [
    {
     "data": {
      "text/html": [
       "<div>\n",
       "<style scoped>\n",
       "    .dataframe tbody tr th:only-of-type {\n",
       "        vertical-align: middle;\n",
       "    }\n",
       "\n",
       "    .dataframe tbody tr th {\n",
       "        vertical-align: top;\n",
       "    }\n",
       "\n",
       "    .dataframe thead th {\n",
       "        text-align: right;\n",
       "    }\n",
       "</style>\n",
       "<table border=\"1\" class=\"dataframe\">\n",
       "  <thead>\n",
       "    <tr style=\"text-align: right;\">\n",
       "      <th></th>\n",
       "      <th>Unnamed: 0</th>\n",
       "      <th>YearsExperience</th>\n",
       "      <th>Salary</th>\n",
       "    </tr>\n",
       "  </thead>\n",
       "  <tbody>\n",
       "    <tr>\n",
       "      <th>0</th>\n",
       "      <td>0</td>\n",
       "      <td>1.2</td>\n",
       "      <td>39344.0</td>\n",
       "    </tr>\n",
       "    <tr>\n",
       "      <th>1</th>\n",
       "      <td>1</td>\n",
       "      <td>1.4</td>\n",
       "      <td>46206.0</td>\n",
       "    </tr>\n",
       "    <tr>\n",
       "      <th>2</th>\n",
       "      <td>2</td>\n",
       "      <td>1.6</td>\n",
       "      <td>37732.0</td>\n",
       "    </tr>\n",
       "    <tr>\n",
       "      <th>3</th>\n",
       "      <td>3</td>\n",
       "      <td>2.1</td>\n",
       "      <td>43526.0</td>\n",
       "    </tr>\n",
       "    <tr>\n",
       "      <th>4</th>\n",
       "      <td>4</td>\n",
       "      <td>2.3</td>\n",
       "      <td>39892.0</td>\n",
       "    </tr>\n",
       "  </tbody>\n",
       "</table>\n",
       "</div>"
      ],
      "text/plain": [
       "   Unnamed: 0  YearsExperience   Salary\n",
       "0           0              1.2  39344.0\n",
       "1           1              1.4  46206.0\n",
       "2           2              1.6  37732.0\n",
       "3           3              2.1  43526.0\n",
       "4           4              2.3  39892.0"
      ]
     },
     "execution_count": 4,
     "metadata": {},
     "output_type": "execute_result"
    }
   ],
   "source": [
    "sal_data.head()"
   ]
  },
  {
   "cell_type": "code",
   "execution_count": 5,
   "id": "50304f1b",
   "metadata": {
    "execution": {
     "iopub.execute_input": "2024-06-14T10:17:24.859935Z",
     "iopub.status.busy": "2024-06-14T10:17:24.858788Z",
     "iopub.status.idle": "2024-06-14T10:17:24.870188Z",
     "shell.execute_reply": "2024-06-14T10:17:24.868966Z"
    },
    "papermill": {
     "duration": 0.01967,
     "end_time": "2024-06-14T10:17:24.872872",
     "exception": false,
     "start_time": "2024-06-14T10:17:24.853202",
     "status": "completed"
    },
    "tags": []
   },
   "outputs": [
    {
     "name": "stdout",
     "output_type": "stream",
     "text": [
      "Maximum salary = 122392.000000 \n",
      " maximum years of experience = 10.600000\n",
      "Minimum salary = 37732.000000 \n",
      " minimum years of experience = 1.200000\n"
     ]
    }
   ],
   "source": [
    "print(\"Maximum salary = %f \\n maximum years of experience = %f\"%(sal_data['Salary'].max(),sal_data['YearsExperience'].max()))\n",
    "print(\"Minimum salary = %f \\n minimum years of experience = %f\"%(sal_data['Salary'].min(),sal_data['YearsExperience'].min()))"
   ]
  },
  {
   "cell_type": "code",
   "execution_count": 6,
   "id": "bc58173f",
   "metadata": {
    "execution": {
     "iopub.execute_input": "2024-06-14T10:17:24.883613Z",
     "iopub.status.busy": "2024-06-14T10:17:24.883231Z",
     "iopub.status.idle": "2024-06-14T10:17:24.907429Z",
     "shell.execute_reply": "2024-06-14T10:17:24.906401Z"
    },
    "papermill": {
     "duration": 0.033369,
     "end_time": "2024-06-14T10:17:24.910662",
     "exception": false,
     "start_time": "2024-06-14T10:17:24.877293",
     "status": "completed"
    },
    "tags": []
   },
   "outputs": [
    {
     "name": "stdout",
     "output_type": "stream",
     "text": [
      "  Salary  YearsExperience\n",
      "0     S1             2.10\n",
      "1     S2             4.10\n",
      "2     S3             5.70\n",
      "3     S4             7.05\n",
      "4     S5             9.60\n"
     ]
    },
    {
     "name": "stderr",
     "output_type": "stream",
     "text": [
      "/tmp/ipykernel_18/1711860269.py:2: FutureWarning: The default of observed=False is deprecated and will be changed to True in a future version of pandas. Pass observed=False to retain current behavior or observed=True to adopt the future default and silence this warning.\n",
      "  sal_bar_data = sal_data.groupby(pd.cut(sal_data['Salary'],\n"
     ]
    }
   ],
   "source": [
    "#Bar graph \n",
    "sal_bar_data = sal_data.groupby(pd.cut(sal_data['Salary'], \n",
    "                  bins=list(range(37732,122393,16932)),  \n",
    "                  labels=['S1', 'S2','S3','S4','S5']))['YearsExperience'].median().reset_index()\n",
    "print(sal_bar_data)"
   ]
  },
  {
   "cell_type": "code",
   "execution_count": 7,
   "id": "a51d6e1e",
   "metadata": {
    "execution": {
     "iopub.execute_input": "2024-06-14T10:17:24.921723Z",
     "iopub.status.busy": "2024-06-14T10:17:24.921354Z",
     "iopub.status.idle": "2024-06-14T10:17:25.156052Z",
     "shell.execute_reply": "2024-06-14T10:17:25.154888Z"
    },
    "papermill": {
     "duration": 0.243466,
     "end_time": "2024-06-14T10:17:25.158643",
     "exception": false,
     "start_time": "2024-06-14T10:17:24.915177",
     "status": "completed"
    },
    "tags": []
   },
   "outputs": [
    {
     "data": {
      "image/png": "[encoded data removed]",
      "text/plain": [
       "<Figure size 640x480 with 1 Axes>"
      ]
     },
     "metadata": {},
     "output_type": "display_data"
    }
   ],
   "source": [
    "plt.bar(sal_bar_data['Salary'],sal_bar_data['YearsExperience'],color = 'blue')\n",
    "plt.show()"
   ]
  },
  {
   "cell_type": "code",
   "execution_count": 8,
   "id": "f793e63b",
   "metadata": {
    "execution": {
     "iopub.execute_input": "2024-06-14T10:17:25.169785Z",
     "iopub.status.busy": "2024-06-14T10:17:25.169422Z",
     "iopub.status.idle": "2024-06-14T10:17:25.303957Z",
     "shell.execute_reply": "2024-06-14T10:17:25.302519Z"
    },
    "papermill": {
     "duration": 0.144554,
     "end_time": "2024-06-14T10:17:25.307966",
     "exception": false,
     "start_time": "2024-06-14T10:17:25.163412",
     "status": "completed"
    },
    "tags": []
   },
   "outputs": [
    {
     "data": {
      "image/png": "[encoded data removed]",
      "text/plain": [
       "<Figure size 640x480 with 1 Axes>"
      ]
     },
     "metadata": {},
     "output_type": "display_data"
    }
   ],
   "source": [
    "plt.pie(sal_bar_data['YearsExperience'], labels=['S1', 'S2','S3','S4','S5'])\n",
    "plt.show()"
   ]
  },
  {
   "cell_type": "code",
   "execution_count": 9,
   "id": "b0df70e2",
   "metadata": {
    "execution": {
     "iopub.execute_input": "2024-06-14T10:17:25.327612Z",
     "iopub.status.busy": "2024-06-14T10:17:25.326579Z",
     "iopub.status.idle": "2024-06-14T10:17:25.570437Z",
     "shell.execute_reply": "2024-06-14T10:17:25.569376Z"
    },
    "papermill": {
     "duration": 0.256389,
     "end_time": "2024-06-14T10:17:25.572894",
     "exception": false,
     "start_time": "2024-06-14T10:17:25.316505",
     "status": "completed"
    },
    "tags": []
   },
   "outputs": [
    {
     "data": {
      "image/png": "[encoded data removed]",
      "text/plain": [
       "<Figure size 640x480 with 1 Axes>"
      ]
     },
     "metadata": {},
     "output_type": "display_data"
    }
   ],
   "source": [
    "plt.hist(sal_data['Salary'])\n",
    "plt.show()"
   ]
  },
  {
   "cell_type": "code",
   "execution_count": 10,
   "id": "a46f317c",
   "metadata": {
    "execution": {
     "iopub.execute_input": "2024-06-14T10:17:25.585252Z",
     "iopub.status.busy": "2024-06-14T10:17:25.584848Z",
     "iopub.status.idle": "2024-06-14T10:17:25.591987Z",
     "shell.execute_reply": "2024-06-14T10:17:25.590766Z"
    },
    "papermill": {
     "duration": 0.016165,
     "end_time": "2024-06-14T10:17:25.594340",
     "exception": false,
     "start_time": "2024-06-14T10:17:25.578175",
     "status": "completed"
    },
    "tags": []
   },
   "outputs": [
    {
     "data": {
      "text/plain": [
       "(30, 3)"
      ]
     },
     "execution_count": 10,
     "metadata": {},
     "output_type": "execute_result"
    }
   ],
   "source": [
    "sal_data.shape\n",
    "#required for linspace"
   ]
  },
  {
   "cell_type": "code",
   "execution_count": 11,
   "id": "048da55a",
   "metadata": {
    "execution": {
     "iopub.execute_input": "2024-06-14T10:17:25.606749Z",
     "iopub.status.busy": "2024-06-14T10:17:25.606376Z",
     "iopub.status.idle": "2024-06-14T10:17:25.856861Z",
     "shell.execute_reply": "2024-06-14T10:17:25.855829Z"
    },
    "papermill": {
     "duration": 0.259598,
     "end_time": "2024-06-14T10:17:25.859354",
     "exception": false,
     "start_time": "2024-06-14T10:17:25.599756",
     "status": "completed"
    },
    "tags": []
   },
   "outputs": [
    {
     "data": {
      "text/plain": [
       "[<matplotlib.lines.Line2D at 0x7962682257e0>]"
      ]
     },
     "execution_count": 11,
     "metadata": {},
     "output_type": "execute_result"
    },
    {
     "data": {
      "image/png": "[encoded data removed]",
      "text/plain": [
       "<Figure size 640x480 with 1 Axes>"
      ]
     },
     "metadata": {},
     "output_type": "display_data"
    }
   ],
   "source": [
    "plt.scatter(sal_data['Salary'],sal_data['YearsExperience'])\n",
    "b, a = np.polyfit(sal_data['Salary'],sal_data['YearsExperience'], deg=1)\n",
    "xseq = np.linspace(37732,122393,num = 30)\n",
    "plt.plot(xseq, a + b * xseq, color=\"k\", lw=2.5)\n"
   ]
  },
  {
   "cell_type": "code",
   "execution_count": 12,
   "id": "78e91a8c",
   "metadata": {
    "execution": {
     "iopub.execute_input": "2024-06-14T10:17:25.873198Z",
     "iopub.status.busy": "2024-06-14T10:17:25.872766Z",
     "iopub.status.idle": "2024-06-14T10:17:26.073596Z",
     "shell.execute_reply": "2024-06-14T10:17:26.072473Z"
    },
    "papermill": {
     "duration": 0.210545,
     "end_time": "2024-06-14T10:17:26.076066",
     "exception": false,
     "start_time": "2024-06-14T10:17:25.865521",
     "status": "completed"
    },
    "tags": []
   },
   "outputs": [
    {
     "data": {
      "image/png": "[encoded data removed]",
      "text/plain": [
       "<Figure size 640x480 with 1 Axes>"
      ]
     },
     "metadata": {},
     "output_type": "display_data"
    }
   ],
   "source": [
    "plt.boxplot(sal_data[['YearsExperience','Salary']])\n",
    "plt.show()"
   ]
  },
  {
   "cell_type": "code",
   "execution_count": 13,
   "id": "4461bd17",
   "metadata": {
    "execution": {
     "iopub.execute_input": "2024-06-14T10:17:26.090475Z",
     "iopub.status.busy": "2024-06-14T10:17:26.090093Z",
     "iopub.status.idle": "2024-06-14T10:17:26.312704Z",
     "shell.execute_reply": "2024-06-14T10:17:26.311404Z"
    },
    "papermill": {
     "duration": 0.232914,
     "end_time": "2024-06-14T10:17:26.315314",
     "exception": false,
     "start_time": "2024-06-14T10:17:26.082400",
     "status": "completed"
    },
    "tags": []
   },
   "outputs": [
    {
     "data": {
      "image/png": "[encoded data removed]",
      "text/plain": [
       "<Figure size 400x400 with 2 Axes>"
      ]
     },
     "metadata": {},
     "output_type": "display_data"
    }
   ],
   "source": [
    "fig = plt.figure(figsize = (4,4)) \n",
    "plt.imshow (sal_data[['Salary','YearsExperience']], cmap='coolwarm',interpolation = 'nearest')\n",
    "plt.colorbar()\n",
    "plt.show()"
   ]
  }
 ],
 "metadata": {
  "kaggle": {
   "accelerator": "none",
   "dataSources": [
    {
     "datasetId": 2799910,
     "sourceId": 4832081,
     "sourceType": "datasetVersion"
    }
   ],
   "dockerImageVersionId": 30732,
   "isGpuEnabled": false,
   "isInternetEnabled": true,
   "language": "python",
   "sourceType": "notebook"
  },
  "kernelspec": {
   "display_name": "Python 3",
   "language": "python",
   "name": "python3"
  },
  "language_info": {
   "codemirror_mode": {
    "name": "ipython",
    "version": 3
   },
   "file_extension": ".py",
   "mimetype": "text/x-python",
   "name": "python",
   "nbconvert_exporter": "python",
   "pygments_lexer": "ipython3",
   "version": "3.10.13"
  },
  "papermill": {
   "default_parameters": {},
   "duration": 5.906813,
   "end_time": "2024-06-14T10:17:26.846074",
   "environment_variables": {},
   "exception": null,
   "input_path": "__notebook__.ipynb",
   "output_path": "__notebook__.ipynb",
   "parameters": {},
   "start_time": "2024-06-14T10:17:20.939261",
   "version": "2.5.0"
  }
 },
 "nbformat": 4,
 "nbformat_minor": 5
}
