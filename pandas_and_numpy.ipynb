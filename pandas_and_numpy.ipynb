{
 "cells": [
  {
   "cell_type": "code",
   "execution_count": 27,
   "metadata": {},
   "outputs": [],
   "source": [
    "import pandas as pd \n",
    "import numpy as np "
   ]
  },
  {
   "cell_type": "code",
   "execution_count": 3,
   "metadata": {},
   "outputs": [
    {
     "name": "stdout",
     "output_type": "stream",
     "text": [
      "The initial array = \n",
      " [[1 2 3]\n",
      " [4 5 6]]\n",
      "The solution array is = \n",
      " [[6 3]\n",
      " [5 2]\n",
      " [4 1]]\n"
     ]
    }
   ],
   "source": [
    "#Q1-Write a NumPy program to swap rows and columns of a given array in reverse order.\n",
    "arr1 = np.array([[1,2,3],[4,5,6],[7,8,9]]) \n",
    "print(\"The initial array = \\n\",arr1)\n",
    "arr1 = np.transpose(arr1)\n",
    "arr1 = np.flip(arr1 , axis = 0) \n",
    "arr1 = np.flip(arr1 , axis = 1)\n",
    "print (\"The solution array is = \\n\" ,arr1)\n"
   ]
  },
  {
   "cell_type": "code",
   "execution_count": 28,
   "metadata": {},
   "outputs": [
    {
     "name": "stdout",
     "output_type": "stream",
     "text": [
      "The initial array is = \n",
      "[6 9 5 1 4 6 7 8 9 8 7 1 7 5 1 0 1 5 5 0 8 9 0 7 0 7 6 5 1 1 9 5 3 8 7 9 6\n",
      " 3 4 5 9 7 2 7 0 2 2 6]\n",
      "{'0': 5, '1': 6, '2': 3, '3': 2, '4': 2, '5': 7, '6': 5, '7': 8, '8': 4, '9': 6}\n",
      "The frequent value in reverse order is \n",
      " {'7': 8, '5': 7, '1': 6, '9': 6, '0': 5, '6': 5, '8': 4, '2': 3, '3': 2, '4': 2}\n"
     ]
    }
   ],
   "source": [
    "'''Q2(a)- Write a NumPy program to find the most frequent value in an array.\n",
    "array:\n",
    "[6 9 5 1 4 6 7 8 9 8 7 1 7 5 1 0 1 5 5 0 8 9 0 7 0 7 6 5 1 1 9 5 3 8 7 9 \n",
    "6 3 4 5 9 7 2 7 0 2 2 6]\n",
    "-b)sort the frequent values in descending order'''\n",
    "\n",
    "arr2 = list(\"6 9 5 1 4 6 7 8 9 8 7 1 7 5 1 0 1 5 5 0 8 9 0 7 0 7 6 5 1 1 9 5 3 8 7 9 6 3 4 5 9 7 2 7 0 2 2 6\")\n",
    "n = arr2.count(\" \")\n",
    "i = 0\n",
    "for i in range(n):\n",
    "    arr2.remove(\" \")\n",
    "arr2 = [eval(j) for j in arr2 ]\n",
    "arr2 = np.array(arr2)\n",
    "print(\"The initial array is = \")\n",
    "print(arr2)\n",
    "unique, frequency = np.unique(arr2 ,return_counts = True)\n",
    "dic1 = {}\n",
    "i = 0\n",
    "for i in range(len(unique)):\n",
    "    dic1[\"%d\"%unique[i]] = frequency[i]\n",
    "print(dic1)\n",
    "dic1 = dict(sorted(dic1.items() , reverse = True , key = lambda x:x[1]))\n",
    "print(\"The frequent value in reverse order is \\n\",dic1)\n",
    "\n",
    "\n",
    "\n",
    "    \n",
    "\n",
    "\n",
    "\n"
   ]
  },
  {
   "cell_type": "code",
   "execution_count": 138,
   "metadata": {},
   "outputs": [
    {
     "name": "stdout",
     "output_type": "stream",
     "text": [
      "       Name  Rollnumber  Subject1  Subject2  total\n",
      "0    Vihaan           9        90        90    180\n",
      "1  Abhijeet           3        85        91    176\n",
      "2     Tarun           5        95        78    173\n",
      "3    Kalash           1        78        87    165\n",
      "       Rollnumber  Subject1  Subject2       total\n",
      "count     4.00000   4.00000   4.00000    4.000000\n",
      "mean      4.50000  87.00000  86.50000  173.500000\n",
      "std       3.41565   7.25718   5.91608    6.350853\n",
      "min       1.00000  78.00000  78.00000  165.000000\n",
      "25%       2.50000  83.25000  84.75000  171.000000\n",
      "50%       4.00000  87.50000  88.50000  174.500000\n",
      "75%       6.00000  91.25000  90.25000  177.000000\n",
      "max       9.00000  95.00000  91.00000  180.000000\n",
      "Data Frame sorted by alphabetical order:\n",
      "       Name  Rollnumber  Subject1  Subject2  total\n",
      "1  Abhijeet           3        85        91    176\n",
      "3    Kalash           1        78        87    165\n",
      "2     Tarun           5        95        78    173\n",
      "0    Vihaan           9        90        90    180\n",
      "\n",
      " Now Adding a few missing values \n",
      "        Name  Rollnumber  Subject1  Subject2  total\n",
      "0    Vihaan         9.0       NaN      90.0  180.0\n",
      "1  Abhijeet         NaN      85.0      91.0  176.0\n",
      "2     Tarun         5.0      95.0       NaN  173.0\n",
      "3    Kalash         1.0      78.0      87.0    NaN\n",
      "\n",
      " The corrected data frame is : \n",
      "      Name  Rollnumber  Subject1  Subject2  total\n",
      "0  Vihaan         9.0      90.0      90.0  180.0\n",
      "2   Tarun         5.0      95.0      78.0  173.0\n",
      "3  Kalash         1.0      78.0      87.0  165.0\n"
     ]
    },
    {
     "name": "stderr",
     "output_type": "stream",
     "text": [
      "C:\\Users\\vihaa\\AppData\\Local\\Temp\\ipykernel_27840\\526618440.py:22: SettingWithCopyWarning: \n",
      "A value is trying to be set on a copy of a slice from a DataFrame\n",
      "\n",
      "See the caveats in the documentation: https://pandas.pydata.org/pandas-docs/stable/user_guide/indexing.html#returning-a-view-versus-a-copy\n",
      "  df2[\"Subject2\"][ind] = df2.at[ind,\"total\"] - df2.at[ind,\"Subject1\"]\n",
      "C:\\Users\\vihaa\\AppData\\Local\\Temp\\ipykernel_27840\\526618440.py:24: SettingWithCopyWarning: \n",
      "A value is trying to be set on a copy of a slice from a DataFrame\n",
      "\n",
      "See the caveats in the documentation: https://pandas.pydata.org/pandas-docs/stable/user_guide/indexing.html#returning-a-view-versus-a-copy\n",
      "  df2[\"total\"][ind] = df2.at[ind,\"Subject1\"] + df2.at[ind,\"Subject2\"]\n"
     ]
    }
   ],
   "source": [
    "'''Q3- Write a Pandas Program to create a dataframe such that the column labels are Name, Rollnumber, Subject1, Subject2 and Total\n",
    "i)\tUsing Pandas function itself calculate the statistical summary(mean, median, mode, Quartiles, etc) of all the numerical columns.\n",
    "ii)\tSort the entire dataframe based on the alphabetical order \n",
    "iii)\tChange the dataset such that there are missing values and NAN values in the dataset and handle them appropriately.'''\n",
    "data1 = [['Vihaan',9,90,90],['Abhijeet',3,85,91],['Tarun',5,95,78],['Kalash',1,78,87]]\n",
    "for i in range(len(data1)):\n",
    "    data1[i].append(data1[i][2]+data1[i][3])\n",
    "df1 = pd.DataFrame(data1 , columns=['Name','Rollnumber','Subject1','Subject2','total'])\n",
    "print(df1)\n",
    "print(df1.describe())\n",
    "print(\"Data Frame sorted by alphabetical order:\")\n",
    "df1 = df1.sort_values(by = ['Name'])\n",
    "print(df1)\n",
    "data2 = [['Vihaan',9,np.nan,90,180],['Abhijeet',np.nan,85,91,176],['Tarun',5,95,np.nan,173],['Kalash',1,78,87,np.nan]]\n",
    "df2 = pd.DataFrame(data2 , columns=['Name','Rollnumber','Subject1','Subject2','total'])\n",
    "print(\"\\n Now Adding a few missing values \\n\",df2)\n",
    "ind = 0\n",
    "for ind in range(len(df2)):\n",
    "    if np.isnan(df2.at[ind,\"Subject1\"]) == True:\n",
    "        df2.at[ind,'Subject1'] = df2.at[ind,\"total\"] - df2.at[ind,\"Subject2\"]\n",
    "    if np.isnan(df2.at[ind,\"Subject2\"]) == True:\n",
    "        df2[\"Subject2\"][ind] = df2.at[ind,\"total\"] - df2.at[ind,\"Subject1\"]\n",
    "    if np.isnan(df2.at[ind,\"total\"]) == True:\n",
    "        df2[\"total\"][ind] = df2.at[ind,\"Subject1\"] + df2.at[ind,\"Subject2\"]    \n",
    "df2.dropna(inplace = True)\n",
    "print(\"\\n The corrected data frame is : \\n\",df2)\n"
   ]
  }
 ],
 "metadata": {
  "kernelspec": {
   "display_name": "base",
   "language": "python",
   "name": "python3"
  },
  "language_info": {
   "codemirror_mode": {
    "name": "ipython",
    "version": 3
   },
   "file_extension": ".py",
   "mimetype": "text/x-python",
   "name": "python",
   "nbconvert_exporter": "python",
   "pygments_lexer": "ipython3",
   "version": "3.9.13"
  }
 },
 "nbformat": 4,
 "nbformat_minor": 2
}
